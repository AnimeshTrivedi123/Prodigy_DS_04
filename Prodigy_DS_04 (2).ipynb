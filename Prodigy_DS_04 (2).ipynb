{
  "nbformat": 4,
  "nbformat_minor": 0,
  "metadata": {
    "colab": {
      "provenance": []
    },
    "kernelspec": {
      "name": "python3",
      "display_name": "Python 3"
    },
    "language_info": {
      "name": "python"
    }
  },
  "cells": [
    {
      "cell_type": "code",
      "execution_count": null,
      "metadata": {
        "colab": {
          "base_uri": "https://localhost:8080/"
        },
        "id": "N5oQ8pHTJ2Eb",
        "outputId": "fceb1d16-d050-4b80-af05-02f1792aeff6"
      },
      "outputs": [
        {
          "output_type": "stream",
          "name": "stdout",
          "text": [
            "       2401  Borderlands  Positive  \\\n",
            "0      2401  Borderlands  Positive   \n",
            "1      2401  Borderlands  Positive   \n",
            "2      2401  Borderlands  Positive   \n",
            "3      2401  Borderlands  Positive   \n",
            "4      2401  Borderlands  Positive   \n",
            "...     ...          ...       ...   \n",
            "53821  2048   CallOfDuty  Negative   \n",
            "53822  2048   CallOfDuty  Negative   \n",
            "53823  2048   CallOfDuty  Negative   \n",
            "53824  2048   CallOfDuty  Negative   \n",
            "53825  2049   CallOfDuty  Negative   \n",
            "\n",
            "      im getting on borderlands and i will murder you all ,  \n",
            "0      I am coming to the borders and I will kill you...     \n",
            "1      im getting on borderlands and i will kill you ...     \n",
            "2      im coming on borderlands and i will murder you...     \n",
            "3      im getting on borderlands 2 and i will murder ...     \n",
            "4      im getting into borderlands and i can murder y...     \n",
            "...                                                  ...     \n",
            "53821  @ CfDuty fix their game new omg challenge with...     \n",
            "53822  @CallofDuty fix your game new omg challenge re...     \n",
            "53823  Dear @CallofDuty fix your stupid game new omg ...     \n",
            "53824  @CallofDuty fix your game new omg challenge cu...     \n",
            "53825  When I search for a game and a map comes up th...     \n",
            "\n",
            "[53826 rows x 4 columns]\n",
            "<class 'pandas.core.frame.DataFrame'>\n",
            "RangeIndex: 53826 entries, 0 to 53825\n",
            "Data columns (total 4 columns):\n",
            " #   Column                                                 Non-Null Count  Dtype \n",
            "---  ------                                                 --------------  ----- \n",
            " 0   2401                                                   53826 non-null  int64 \n",
            " 1   Borderlands                                            53826 non-null  object\n",
            " 2   Positive                                               53826 non-null  object\n",
            " 3   im getting on borderlands and i will murder you all ,  53334 non-null  object\n",
            "dtypes: int64(1), object(3)\n",
            "memory usage: 1.6+ MB\n",
            "None\n"
          ]
        }
      ],
      "source": [
        "import numpy as np\n",
        "import pandas as pd\n",
        "import matplotlib.pyplot as plt\n",
        "import seaborn as sns\n",
        "\n",
        "\n",
        "# Load the dataset\n",
        "data = pd.read_csv(\"//content//Untitled Folder//twitter_training.csv\")\n",
        "print(data)\n",
        "print(data.info())"
      ]
    },
    {
      "cell_type": "code",
      "source": [
        "#By using TextBlob python library\n",
        "from textblob import TextBlob\n",
        "\n",
        "#function to perform sentiment analysis\n",
        "def get_sentiment(text):\n",
        "  analysis = TextBlob(str(text))\n",
        "  return analysis.sentiment.polarity\n",
        "\n",
        "\n",
        "#Apply sentiment analysis\n",
        "data['sentiment'] = data['Borderlands'].apply(get_sentiment)"
      ],
      "metadata": {
        "id": "iQX5rprmKf-C"
      },
      "execution_count": null,
      "outputs": []
    },
    {
      "cell_type": "code",
      "source": [
        "from sqlalchemy.sql.selectable import TypedReturnsRows\n",
        "# Example import for SQLAlchemy 1.3\n",
        "from sqlalchemy.sql.selectable import Select\n",
        "\n",
        "#1.Histogram\n",
        "plt.figure(figsize=(8, 6))\n",
        "sns.histplot(data['sentiment'], bins=30, kde=True)\n",
        "plt.title('Sentiment Distribution')\n",
        "plt.xlabel('2401')\n",
        "plt.ylabel('Positive')\n",
        "plt.show()"
      ],
      "metadata": {
        "colab": {
          "base_uri": "https://localhost:8080/",
          "height": 564
        },
        "id": "68msuyjNKgB0",
        "outputId": "96a96e38-e88d-4770-e471-b6a595b2e5b3"
      },
      "execution_count": null,
      "outputs": [
        {
          "output_type": "display_data",
          "data": {
            "text/plain": [
              "<Figure size 800x600 with 1 Axes>"
            ],
            "image/png": "[encoded data removed]"
          },
          "metadata": {}
        }
      ]
    }
  ]
}